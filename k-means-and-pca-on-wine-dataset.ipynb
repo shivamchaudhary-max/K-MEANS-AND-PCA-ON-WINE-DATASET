{
 "cells": [
  {
   "cell_type": "code",
   "execution_count": 1,
   "id": "450918bd",
   "metadata": {
    "execution": {
     "iopub.execute_input": "2022-01-19T17:10:11.555645Z",
     "iopub.status.busy": "2022-01-19T17:10:11.555026Z",
     "iopub.status.idle": "2022-01-19T17:10:12.972576Z",
     "shell.execute_reply": "2022-01-19T17:10:12.971764Z"
    },
    "id": "1LaB4BI8NMb0",
    "papermill": {
     "duration": 1.445436,
     "end_time": "2022-01-19T17:10:12.972776",
     "exception": false,
     "start_time": "2022-01-19T17:10:11.527340",
     "status": "completed"
    },
    "tags": []
   },
   "outputs": [],
   "source": [
    "import pandas as pd\n",
    "import numpy as np\n",
    "from sklearn.cluster import KMeans\n",
    "import matplotlib.pyplot as plt\n",
    "\n"
   ]
  },
  {
   "cell_type": "code",
   "execution_count": 2,
   "id": "39ff45c2",
   "metadata": {
    "execution": {
     "iopub.execute_input": "2022-01-19T17:10:13.007121Z",
     "iopub.status.busy": "2022-01-19T17:10:13.006176Z",
     "iopub.status.idle": "2022-01-19T17:10:13.035634Z",
     "shell.execute_reply": "2022-01-19T17:10:13.036283Z"
    },
    "id": "pMW9Pqnggt0l",
    "papermill": {
     "duration": 0.04905,
     "end_time": "2022-01-19T17:10:13.036459",
     "exception": false,
     "start_time": "2022-01-19T17:10:12.987409",
     "status": "completed"
    },
    "tags": []
   },
   "outputs": [],
   "source": [
    "wine=pd.read_csv('../input/wine-quality/winequalityN.csv')"
   ]
  },
  {
   "cell_type": "code",
   "execution_count": 3,
   "id": "5131e8a4",
   "metadata": {
    "execution": {
     "iopub.execute_input": "2022-01-19T17:10:13.071470Z",
     "iopub.status.busy": "2022-01-19T17:10:13.070811Z",
     "iopub.status.idle": "2022-01-19T17:10:13.086591Z",
     "shell.execute_reply": "2022-01-19T17:10:13.087119Z"
    },
    "id": "1hrfbChfg5sJ",
    "outputId": "fdb0d5c0-b4a1-409f-8f33-863ca2ebb349",
    "papermill": {
     "duration": 0.033265,
     "end_time": "2022-01-19T17:10:13.087293",
     "exception": false,
     "start_time": "2022-01-19T17:10:13.054028",
     "status": "completed"
    },
    "tags": []
   },
   "outputs": [
    {
     "data": {
      "text/plain": [
       "type                     0\n",
       "fixed acidity           10\n",
       "volatile acidity         8\n",
       "citric acid              3\n",
       "residual sugar           2\n",
       "chlorides                2\n",
       "free sulfur dioxide      0\n",
       "total sulfur dioxide     0\n",
       "density                  0\n",
       "pH                       9\n",
       "sulphates                4\n",
       "alcohol                  0\n",
       "quality                  0\n",
       "dtype: int64"
      ]
     },
     "execution_count": 3,
     "metadata": {},
     "output_type": "execute_result"
    }
   ],
   "source": [
    "wine.isnull().sum()"
   ]
  },
  {
   "cell_type": "code",
   "execution_count": 4,
   "id": "7b759cba",
   "metadata": {
    "execution": {
     "iopub.execute_input": "2022-01-19T17:10:13.127255Z",
     "iopub.status.busy": "2022-01-19T17:10:13.126545Z",
     "iopub.status.idle": "2022-01-19T17:10:13.132366Z",
     "shell.execute_reply": "2022-01-19T17:10:13.132905Z"
    },
    "id": "BgO5VJ1yhOpg",
    "papermill": {
     "duration": 0.03105,
     "end_time": "2022-01-19T17:10:13.133090",
     "exception": false,
     "start_time": "2022-01-19T17:10:13.102040",
     "status": "completed"
    },
    "tags": []
   },
   "outputs": [],
   "source": [
    "wine['fixed acidity']=wine['fixed acidity'].fillna(wine['fixed acidity'].mean())\n",
    "wine['volatile acidity']=wine['volatile acidity'].fillna(wine['volatile acidity'].mean())\n",
    "wine['citric acid']=wine['citric acid'].fillna(wine['citric acid'].mean())\n",
    "wine['residual sugar']=wine['residual sugar'].fillna(wine['residual sugar'].mean())\n",
    "wine['chlorides']=wine['chlorides'].fillna(wine['chlorides'].mean())\n",
    "wine['pH']=wine['pH'].fillna(wine['pH'].mean())\n",
    "wine['sulphates']=wine['sulphates'].fillna(wine['sulphates'].mean())"
   ]
  },
  {
   "cell_type": "code",
   "execution_count": 5,
   "id": "ffec2657",
   "metadata": {
    "execution": {
     "iopub.execute_input": "2022-01-19T17:10:13.165417Z",
     "iopub.status.busy": "2022-01-19T17:10:13.164803Z",
     "iopub.status.idle": "2022-01-19T17:10:13.173009Z",
     "shell.execute_reply": "2022-01-19T17:10:13.173531Z"
    },
    "id": "mZSHE4xckfbn",
    "outputId": "89d8b6c0-9105-4fe6-b5db-d7e8d14ecc03",
    "papermill": {
     "duration": 0.026005,
     "end_time": "2022-01-19T17:10:13.173720",
     "exception": false,
     "start_time": "2022-01-19T17:10:13.147715",
     "status": "completed"
    },
    "tags": []
   },
   "outputs": [
    {
     "data": {
      "text/plain": [
       "type                    0\n",
       "fixed acidity           0\n",
       "volatile acidity        0\n",
       "citric acid             0\n",
       "residual sugar          0\n",
       "chlorides               0\n",
       "free sulfur dioxide     0\n",
       "total sulfur dioxide    0\n",
       "density                 0\n",
       "pH                      0\n",
       "sulphates               0\n",
       "alcohol                 0\n",
       "quality                 0\n",
       "dtype: int64"
      ]
     },
     "execution_count": 5,
     "metadata": {},
     "output_type": "execute_result"
    }
   ],
   "source": [
    "wine.isnull().sum()"
   ]
  },
  {
   "cell_type": "code",
   "execution_count": 6,
   "id": "d42f678d",
   "metadata": {
    "execution": {
     "iopub.execute_input": "2022-01-19T17:10:13.212265Z",
     "iopub.status.busy": "2022-01-19T17:10:13.211576Z",
     "iopub.status.idle": "2022-01-19T17:10:13.214087Z",
     "shell.execute_reply": "2022-01-19T17:10:13.214610Z"
    },
    "id": "ly8LGYEJmITe",
    "papermill": {
     "duration": 0.025349,
     "end_time": "2022-01-19T17:10:13.214813",
     "exception": false,
     "start_time": "2022-01-19T17:10:13.189464",
     "status": "completed"
    },
    "tags": []
   },
   "outputs": [],
   "source": [
    "X=wine.iloc[:,[12]]"
   ]
  },
  {
   "cell_type": "code",
   "execution_count": 7,
   "id": "e1cad7cb",
   "metadata": {
    "execution": {
     "iopub.execute_input": "2022-01-19T17:10:13.249331Z",
     "iopub.status.busy": "2022-01-19T17:10:13.248558Z",
     "iopub.status.idle": "2022-01-19T17:10:13.257881Z",
     "shell.execute_reply": "2022-01-19T17:10:13.258418Z"
    },
    "id": "pVlImG_fngI9",
    "outputId": "6613fca1-b8c0-41cb-8994-645d378f5d2c",
    "papermill": {
     "duration": 0.02844,
     "end_time": "2022-01-19T17:10:13.258589",
     "exception": false,
     "start_time": "2022-01-19T17:10:13.230149",
     "status": "completed"
    },
    "tags": []
   },
   "outputs": [
    {
     "data": {
      "text/plain": [
       "array([[ 0.20799905],\n",
       "       [ 0.20799905],\n",
       "       [ 0.20799905],\n",
       "       ...,\n",
       "       [ 0.20799905],\n",
       "       [-0.93722961],\n",
       "       [ 0.20799905]])"
      ]
     },
     "execution_count": 7,
     "metadata": {},
     "output_type": "execute_result"
    }
   ],
   "source": [
    "# Standardizing the features\n",
    "from sklearn.preprocessing import StandardScaler\n",
    "sce= StandardScaler()\n",
    "x=sce.fit_transform(X)\n",
    "x"
   ]
  },
  {
   "cell_type": "code",
   "execution_count": 8,
   "id": "e8fd85db",
   "metadata": {
    "execution": {
     "iopub.execute_input": "2022-01-19T17:10:13.300272Z",
     "iopub.status.busy": "2022-01-19T17:10:13.299516Z",
     "iopub.status.idle": "2022-01-19T17:10:13.314260Z",
     "shell.execute_reply": "2022-01-19T17:10:13.315149Z"
    },
    "id": "Wq9J4k_YoMtX",
    "outputId": "221928e4-7825-49ee-cab0-80ccd974858f",
    "papermill": {
     "duration": 0.039861,
     "end_time": "2022-01-19T17:10:13.315381",
     "exception": false,
     "start_time": "2022-01-19T17:10:13.275520",
     "status": "completed"
    },
    "tags": []
   },
   "outputs": [
    {
     "name": "stdout",
     "output_type": "stream",
     "text": [
      "      fixed acidity  volatile acidity  citric acid  residual sugar  chlorides  \\\n",
      "0               7.0             0.270         0.36            20.7      0.045   \n",
      "1               6.3             0.300         0.34             1.6      0.049   \n",
      "2               8.1             0.280         0.40             6.9      0.050   \n",
      "3               7.2             0.230         0.32             8.5      0.058   \n",
      "4               7.2             0.230         0.32             8.5      0.058   \n",
      "...             ...               ...          ...             ...        ...   \n",
      "6492            6.2             0.600         0.08             2.0      0.090   \n",
      "6493            5.9             0.550         0.10             2.2      0.062   \n",
      "6494            6.3             0.510         0.13             2.3      0.076   \n",
      "6495            5.9             0.645         0.12             2.0      0.075   \n",
      "6496            6.0             0.310         0.47             3.6      0.067   \n",
      "\n",
      "      free sulfur dioxide  total sulfur dioxide  density    pH  sulphates  \\\n",
      "0                    45.0                 170.0  1.00100  3.00   0.450000   \n",
      "1                    14.0                 132.0  0.99400  3.30   0.490000   \n",
      "2                    30.0                  97.0  0.99510  3.26   0.440000   \n",
      "3                    47.0                 186.0  0.99560  3.19   0.400000   \n",
      "4                    47.0                 186.0  0.99560  3.19   0.400000   \n",
      "...                   ...                   ...      ...   ...        ...   \n",
      "6492                 32.0                  44.0  0.99490  3.45   0.580000   \n",
      "6493                 39.0                  51.0  0.99512  3.52   0.531215   \n",
      "6494                 29.0                  40.0  0.99574  3.42   0.750000   \n",
      "6495                 32.0                  44.0  0.99547  3.57   0.710000   \n",
      "6496                 18.0                  42.0  0.99549  3.39   0.660000   \n",
      "\n",
      "      alcohol  \n",
      "0         8.8  \n",
      "1         9.5  \n",
      "2        10.1  \n",
      "3         9.9  \n",
      "4         9.9  \n",
      "...       ...  \n",
      "6492     10.5  \n",
      "6493     11.2  \n",
      "6494     11.0  \n",
      "6495     10.2  \n",
      "6496     11.0  \n",
      "\n",
      "[6497 rows x 11 columns]\n"
     ]
    }
   ],
   "source": [
    "w1=wine.iloc[:,1:12]\n",
    "print(w1)"
   ]
  },
  {
   "cell_type": "code",
   "execution_count": 9,
   "id": "44df7492",
   "metadata": {
    "execution": {
     "iopub.execute_input": "2022-01-19T17:10:13.355492Z",
     "iopub.status.busy": "2022-01-19T17:10:13.354784Z",
     "iopub.status.idle": "2022-01-19T17:10:13.356537Z",
     "shell.execute_reply": "2022-01-19T17:10:13.357094Z"
    },
    "id": "ua3oy-jWoj81",
    "papermill": {
     "duration": 0.024087,
     "end_time": "2022-01-19T17:10:13.357271",
     "exception": false,
     "start_time": "2022-01-19T17:10:13.333184",
     "status": "completed"
    },
    "tags": []
   },
   "outputs": [],
   "source": [
    "w2=wine.iloc[:,12]\n"
   ]
  },
  {
   "cell_type": "code",
   "execution_count": 10,
   "id": "53450dc3",
   "metadata": {
    "execution": {
     "iopub.execute_input": "2022-01-19T17:10:13.397052Z",
     "iopub.status.busy": "2022-01-19T17:10:13.393136Z",
     "iopub.status.idle": "2022-01-19T17:10:13.437104Z",
     "shell.execute_reply": "2022-01-19T17:10:13.438062Z"
    },
    "id": "cZHUt-izoz1a",
    "papermill": {
     "duration": 0.064525,
     "end_time": "2022-01-19T17:10:13.438355",
     "exception": false,
     "start_time": "2022-01-19T17:10:13.373830",
     "status": "completed"
    },
    "tags": []
   },
   "outputs": [],
   "source": [
    "from sklearn.decomposition import PCA\n",
    "\n",
    "pca = PCA(n_components=2)\n",
    "principalComponents = pca.fit_transform(w1)"
   ]
  },
  {
   "cell_type": "code",
   "execution_count": 11,
   "id": "3645b9a0",
   "metadata": {
    "execution": {
     "iopub.execute_input": "2022-01-19T17:10:13.513724Z",
     "iopub.status.busy": "2022-01-19T17:10:13.512367Z",
     "iopub.status.idle": "2022-01-19T17:10:13.517522Z",
     "shell.execute_reply": "2022-01-19T17:10:13.514746Z"
    },
    "id": "Oes73tEk3eCK",
    "outputId": "b271104c-08a7-4ba1-a08e-44132a4aa1e7",
    "papermill": {
     "duration": 0.048685,
     "end_time": "2022-01-19T17:10:13.517781",
     "exception": false,
     "start_time": "2022-01-19T17:10:13.469096",
     "status": "completed"
    },
    "tags": []
   },
   "outputs": [
    {
     "data": {
      "text/plain": [
       "array([[ 56.71859519,   1.80583369],\n",
       "       [ 11.84866887, -19.90512303],\n",
       "       [-18.28844618,   3.84827411],\n",
       "       ...,\n",
       "       [-74.11345473,  15.99233454],\n",
       "       [-69.5385634 ,  17.97886794],\n",
       "       [-74.64836631,   4.85634586]])"
      ]
     },
     "execution_count": 11,
     "metadata": {},
     "output_type": "execute_result"
    }
   ],
   "source": [
    "principalComponents"
   ]
  },
  {
   "cell_type": "code",
   "execution_count": 12,
   "id": "460388a1",
   "metadata": {
    "execution": {
     "iopub.execute_input": "2022-01-19T17:10:13.574371Z",
     "iopub.status.busy": "2022-01-19T17:10:13.573669Z",
     "iopub.status.idle": "2022-01-19T17:10:13.575400Z",
     "shell.execute_reply": "2022-01-19T17:10:13.575976Z"
    },
    "id": "-ATwHyMf3mEc",
    "papermill": {
     "duration": 0.027902,
     "end_time": "2022-01-19T17:10:13.576141",
     "exception": false,
     "start_time": "2022-01-19T17:10:13.548239",
     "status": "completed"
    },
    "tags": []
   },
   "outputs": [],
   "source": [
    "principalDf = pd.DataFrame(data = principalComponents\n",
    "             , columns = ['principal component 1', 'principal component 2'])\n",
    "\n",
    "finalDf = pd.concat([principalDf, wine.iloc[:,12]], axis = 1)"
   ]
  },
  {
   "cell_type": "code",
   "execution_count": 13,
   "id": "cac06c61",
   "metadata": {
    "execution": {
     "iopub.execute_input": "2022-01-19T17:10:13.613032Z",
     "iopub.status.busy": "2022-01-19T17:10:13.612409Z",
     "iopub.status.idle": "2022-01-19T17:10:13.625439Z",
     "shell.execute_reply": "2022-01-19T17:10:13.626085Z"
    },
    "id": "L9m-t4DC3uO-",
    "outputId": "c0fcbc0a-1595-4f5f-ae3f-d4c80be3543b",
    "papermill": {
     "duration": 0.033128,
     "end_time": "2022-01-19T17:10:13.626268",
     "exception": false,
     "start_time": "2022-01-19T17:10:13.593140",
     "status": "completed"
    },
    "tags": []
   },
   "outputs": [
    {
     "data": {
      "text/html": [
       "<div>\n",
       "<style scoped>\n",
       "    .dataframe tbody tr th:only-of-type {\n",
       "        vertical-align: middle;\n",
       "    }\n",
       "\n",
       "    .dataframe tbody tr th {\n",
       "        vertical-align: top;\n",
       "    }\n",
       "\n",
       "    .dataframe thead th {\n",
       "        text-align: right;\n",
       "    }\n",
       "</style>\n",
       "<table border=\"1\" class=\"dataframe\">\n",
       "  <thead>\n",
       "    <tr style=\"text-align: right;\">\n",
       "      <th></th>\n",
       "      <th>principal component 1</th>\n",
       "      <th>principal component 2</th>\n",
       "      <th>quality</th>\n",
       "    </tr>\n",
       "  </thead>\n",
       "  <tbody>\n",
       "    <tr>\n",
       "      <th>0</th>\n",
       "      <td>56.718595</td>\n",
       "      <td>1.805834</td>\n",
       "      <td>6</td>\n",
       "    </tr>\n",
       "    <tr>\n",
       "      <th>1</th>\n",
       "      <td>11.848669</td>\n",
       "      <td>-19.905123</td>\n",
       "      <td>6</td>\n",
       "    </tr>\n",
       "    <tr>\n",
       "      <th>2</th>\n",
       "      <td>-18.288446</td>\n",
       "      <td>3.848274</td>\n",
       "      <td>6</td>\n",
       "    </tr>\n",
       "    <tr>\n",
       "      <th>3</th>\n",
       "      <td>72.226040</td>\n",
       "      <td>-0.178224</td>\n",
       "      <td>6</td>\n",
       "    </tr>\n",
       "    <tr>\n",
       "      <th>4</th>\n",
       "      <td>72.226040</td>\n",
       "      <td>-0.178224</td>\n",
       "      <td>6</td>\n",
       "    </tr>\n",
       "    <tr>\n",
       "      <th>...</th>\n",
       "      <td>...</td>\n",
       "      <td>...</td>\n",
       "      <td>...</td>\n",
       "    </tr>\n",
       "    <tr>\n",
       "      <th>6492</th>\n",
       "      <td>-69.542222</td>\n",
       "      <td>17.978027</td>\n",
       "      <td>5</td>\n",
       "    </tr>\n",
       "    <tr>\n",
       "      <th>6493</th>\n",
       "      <td>-61.117009</td>\n",
       "      <td>23.174131</td>\n",
       "      <td>6</td>\n",
       "    </tr>\n",
       "    <tr>\n",
       "      <th>6494</th>\n",
       "      <td>-74.113455</td>\n",
       "      <td>15.992335</td>\n",
       "      <td>6</td>\n",
       "    </tr>\n",
       "    <tr>\n",
       "      <th>6495</th>\n",
       "      <td>-69.538563</td>\n",
       "      <td>17.978868</td>\n",
       "      <td>5</td>\n",
       "    </tr>\n",
       "    <tr>\n",
       "      <th>6496</th>\n",
       "      <td>-74.648366</td>\n",
       "      <td>4.856346</td>\n",
       "      <td>6</td>\n",
       "    </tr>\n",
       "  </tbody>\n",
       "</table>\n",
       "<p>6497 rows × 3 columns</p>\n",
       "</div>"
      ],
      "text/plain": [
       "      principal component 1  principal component 2  quality\n",
       "0                 56.718595               1.805834        6\n",
       "1                 11.848669             -19.905123        6\n",
       "2                -18.288446               3.848274        6\n",
       "3                 72.226040              -0.178224        6\n",
       "4                 72.226040              -0.178224        6\n",
       "...                     ...                    ...      ...\n",
       "6492             -69.542222              17.978027        5\n",
       "6493             -61.117009              23.174131        6\n",
       "6494             -74.113455              15.992335        6\n",
       "6495             -69.538563              17.978868        5\n",
       "6496             -74.648366               4.856346        6\n",
       "\n",
       "[6497 rows x 3 columns]"
      ]
     },
     "execution_count": 13,
     "metadata": {},
     "output_type": "execute_result"
    }
   ],
   "source": [
    "finalDf"
   ]
  },
  {
   "cell_type": "code",
   "execution_count": 14,
   "id": "92759819",
   "metadata": {
    "execution": {
     "iopub.execute_input": "2022-01-19T17:10:13.664789Z",
     "iopub.status.busy": "2022-01-19T17:10:13.664099Z",
     "iopub.status.idle": "2022-01-19T17:10:13.670443Z",
     "shell.execute_reply": "2022-01-19T17:10:13.671101Z"
    },
    "id": "tdjUK2NsDs2n",
    "papermill": {
     "duration": 0.027273,
     "end_time": "2022-01-19T17:10:13.671333",
     "exception": false,
     "start_time": "2022-01-19T17:10:13.644060",
     "status": "completed"
    },
    "tags": []
   },
   "outputs": [
    {
     "name": "stdout",
     "output_type": "stream",
     "text": [
      "[[ 56.71859519   1.80583369]\n",
      " [ 11.84866887 -19.90512303]\n",
      " [-18.28844618   3.84827411]\n",
      " ...\n",
      " [-74.11345473  15.99233454]\n",
      " [-69.5385634   17.97886794]\n",
      " [-74.64836631   4.85634586]]\n"
     ]
    }
   ],
   "source": [
    "x=finalDf.iloc[:,[0,1]].values\n",
    "print(x)"
   ]
  },
  {
   "cell_type": "code",
   "execution_count": 15,
   "id": "ed8fe5ed",
   "metadata": {
    "execution": {
     "iopub.execute_input": "2022-01-19T17:10:13.712029Z",
     "iopub.status.busy": "2022-01-19T17:10:13.711341Z",
     "iopub.status.idle": "2022-01-19T17:10:13.981225Z",
     "shell.execute_reply": "2022-01-19T17:10:13.981790Z"
    },
    "id": "sUKYcllhhAs-",
    "papermill": {
     "duration": 0.291755,
     "end_time": "2022-01-19T17:10:13.981975",
     "exception": false,
     "start_time": "2022-01-19T17:10:13.690220",
     "status": "completed"
    },
    "tags": []
   },
   "outputs": [
    {
     "data": {
      "text/plain": [
       "<matplotlib.collections.PathCollection at 0x7fa9ddc3f790>"
      ]
     },
     "execution_count": 15,
     "metadata": {},
     "output_type": "execute_result"
    },
    {
     "data": {
      "image/png": "[encoded data removed]",
      "text/plain": [
       "<Figure size 720x504 with 1 Axes>"
      ]
     },
     "metadata": {
      "needs_background": "light"
     },
     "output_type": "display_data"
    }
   ],
   "source": [
    "#Plotting \n",
    "plt.figure(figsize=(10, 7))  \n",
    "plt.scatter(x[:,0],x[:,1], cmap='rainbow')"
   ]
  },
  {
   "cell_type": "code",
   "execution_count": 16,
   "id": "00a32473",
   "metadata": {
    "execution": {
     "iopub.execute_input": "2022-01-19T17:10:14.024166Z",
     "iopub.status.busy": "2022-01-19T17:10:14.023446Z",
     "iopub.status.idle": "2022-01-19T17:10:14.029058Z",
     "shell.execute_reply": "2022-01-19T17:10:14.028323Z"
    },
    "id": "JDsSTAB-EbmC",
    "papermill": {
     "duration": 0.027797,
     "end_time": "2022-01-19T17:10:14.029222",
     "exception": false,
     "start_time": "2022-01-19T17:10:14.001425",
     "status": "completed"
    },
    "tags": []
   },
   "outputs": [],
   "source": [
    "y=finalDf.iloc[:,2].values"
   ]
  },
  {
   "cell_type": "code",
   "execution_count": 17,
   "id": "adda7d38",
   "metadata": {
    "execution": {
     "iopub.execute_input": "2022-01-19T17:10:14.076907Z",
     "iopub.status.busy": "2022-01-19T17:10:14.075907Z",
     "iopub.status.idle": "2022-01-19T17:10:15.319110Z",
     "shell.execute_reply": "2022-01-19T17:10:15.320937Z"
    },
    "id": "0FDN7JY07io9",
    "outputId": "89df8d73-7430-47af-aed8-1a3bd6c930dc",
    "papermill": {
     "duration": 1.272235,
     "end_time": "2022-01-19T17:10:15.321262",
     "exception": false,
     "start_time": "2022-01-19T17:10:14.049027",
     "status": "completed"
    },
    "tags": []
   },
   "outputs": [
    {
     "name": "stdout",
     "output_type": "stream",
     "text": [
      "[2 1 1 ... 0 0 0]\n"
     ]
    }
   ],
   "source": [
    "#Applying kmeans to the dataset / Creating the kmeans classifier\n",
    "kmeans = KMeans(n_clusters = 3, init = 'k-means++', max_iter = 300, n_init = 10, random_state = 0)\n",
    "y_kmeans = kmeans.fit_predict(x)\n",
    "print(y_kmeans)"
   ]
  },
  {
   "cell_type": "code",
   "execution_count": 18,
   "id": "6865bdda",
   "metadata": {
    "execution": {
     "iopub.execute_input": "2022-01-19T17:10:15.379478Z",
     "iopub.status.busy": "2022-01-19T17:10:15.378747Z",
     "iopub.status.idle": "2022-01-19T17:10:15.868856Z",
     "shell.execute_reply": "2022-01-19T17:10:15.869428Z"
    },
    "id": "2pdlnO7x-a6B",
    "outputId": "ee7bba0f-52e7-4e3f-b5fe-d2c8c673a897",
    "papermill": {
     "duration": 0.523234,
     "end_time": "2022-01-19T17:10:15.869619",
     "exception": false,
     "start_time": "2022-01-19T17:10:15.346385",
     "status": "completed"
    },
    "tags": []
   },
   "outputs": [
    {
     "data": {
      "text/plain": [
       "<matplotlib.legend.Legend at 0x7fa9ddb57950>"
      ]
     },
     "execution_count": 18,
     "metadata": {},
     "output_type": "execute_result"
    },
    {
     "data": {
      "image/png": "[encoded data removed]",
      "text/plain": [
       "<Figure size 432x288 with 1 Axes>"
      ]
     },
     "metadata": {
      "needs_background": "light"
     },
     "output_type": "display_data"
    }
   ],
   "source": [
    "#Visualising the clusters\n",
    "plt.scatter(x[y_kmeans == 0, 0], x[y_kmeans == 0, 1], s = 100, c = 'red', label = 'quality1')\n",
    "plt.scatter(x[y_kmeans == 1, 0], x[y_kmeans == 1, 1], s = 100, c = 'blue', label = 'quality2')\n",
    "plt.scatter(x[y_kmeans == 2, 0], x[y_kmeans == 2, 1], s = 100, c = 'green', label = 'quality3')\n",
    "\n",
    "#Plotting the centroids of the clusters\n",
    "plt.scatter(kmeans.cluster_centers_[:, 0], kmeans.cluster_centers_[:,1], s = 100, c = 'yellow', label = 'Centroids')\n",
    "\n",
    "plt.legend()\n",
    "\n",
    "\n",
    "\n"
   ]
  },
  {
   "cell_type": "code",
   "execution_count": 19,
   "id": "de8d3692",
   "metadata": {
    "execution": {
     "iopub.execute_input": "2022-01-19T17:10:15.940538Z",
     "iopub.status.busy": "2022-01-19T17:10:15.939233Z",
     "iopub.status.idle": "2022-01-19T17:10:16.794970Z",
     "shell.execute_reply": "2022-01-19T17:10:16.794401Z"
    },
    "id": "AroOBSccDe6e",
    "outputId": "d2859f9c-869f-46db-d9a8-84d69be7afd1",
    "papermill": {
     "duration": 0.899207,
     "end_time": "2022-01-19T17:10:16.795136",
     "exception": false,
     "start_time": "2022-01-19T17:10:15.895929",
     "status": "completed"
    },
    "tags": []
   },
   "outputs": [
    {
     "name": "stdout",
     "output_type": "stream",
     "text": [
      "For n_clusters = 3 The average silhouette_score is : 0.5136852836942363\n"
     ]
    }
   ],
   "source": [
    "from sklearn.metrics import silhouette_score\n",
    "silhouette_avg = silhouette_score(x,y_kmeans)\n",
    "print(\"For n_clusters =\", 3,\n",
    "          \"The average silhouette_score is :\", silhouette_avg)"
   ]
  }
 ],
 "metadata": {
  "kernelspec": {
   "display_name": "Python 3",
   "language": "python",
   "name": "python3"
  },
  "language_info": {
   "codemirror_mode": {
    "name": "ipython",
    "version": 3
   },
   "file_extension": ".py",
   "mimetype": "text/x-python",
   "name": "python",
   "nbconvert_exporter": "python",
   "pygments_lexer": "ipython3",
   "version": "3.7.12"
  },
  "papermill": {
   "default_parameters": {},
   "duration": 16.547476,
   "end_time": "2022-01-19T17:10:17.530942",
   "environment_variables": {},
   "exception": null,
   "input_path": "__notebook__.ipynb",
   "output_path": "__notebook__.ipynb",
   "parameters": {},
   "start_time": "2022-01-19T17:10:00.983466",
   "version": "2.3.3"
  }
 },
 "nbformat": 4,
 "nbformat_minor": 5
}
